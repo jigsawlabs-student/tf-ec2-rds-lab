{
 "cells": [
  {
   "cell_type": "markdown",
   "id": "876da35c-9842-4bd0-b474-d6189590813d",
   "metadata": {},
   "source": [
    "# EC2 and RDS Instances - TF Fullstack"
   ]
  },
  {
   "cell_type": "markdown",
   "id": "6dade9f7-dffc-4716-9b89-e43f4f05f8d2",
   "metadata": {},
   "source": [
    "### Introduction"
   ]
  },
  {
   "cell_type": "markdown",
   "id": "8e040d31-650a-4887-8064-be1aa5173074",
   "metadata": {},
   "source": [
    "So in the previous lesson, we accomplished some of the initial setup of both updating our code, and dockerizing our flask api.  In this lesson, we'll move forward with some of the terraform setup.  That means, we'll need a backend database that connects to an EC2 instance.  And the ec2 instance is where we'll ultimately deploy our flask api and streamlit frontend.\n",
    "\n",
    "Ok, let's get started."
   ]
  },
  {
   "cell_type": "markdown",
   "id": "3e8d8b34-02b3-465e-be15-cd2ed47d6cd5",
   "metadata": {},
   "source": [
    "### Setting up the database"
   ]
  },
  {
   "cell_type": "markdown",
   "id": "15371695-cd8d-4e6d-8a61-10079a420b42",
   "metadata": {},
   "source": [
    "The first step will be to set up the rds instance.  You can see that we already got you started with setting up the rds instance.  And you can see it setup in the `tf/rds.tf` file.  Here's what you'll still need to do:\n",
    "    \n",
    "1. Use local variables\n",
    "    * So currently `db_name`, `username`, `password` and `db_name` are hardcoded.  Move to using the local variables that are defined above.\n",
    "    > In production you can look into using the aws secrets manager, or you could imagine just having the local variables in a `tf` file that is in a .gitignore and so not pushed up to github.  But you can skip that.\n",
    "    \n",
    "    *  Notice that on the database instance, we already set `publicly_accessible = true`."
   ]
  },
  {
   "cell_type": "markdown",
   "id": "46f16096-f22a-4b24-aaaf-e198f97cf7c9",
   "metadata": {},
   "source": [
    "2. Set up the security group\n",
    "\n",
    "Next, you'll need to setup a security group that allows for any computer to access the database on port 5432.  \n",
    "\n",
    "3. Attach the security group \n",
    "\n",
    "* We already declared a security group for you, and.  Still, **you'll need** to *attach* the security group to the rds instance.\n",
    "\n",
    "You can do this by adding a property of:\n",
    "\n",
    "* `vpc_security_group_ids` and associating the security group id from the security group defined in the file."
   ]
  },
  {
   "cell_type": "markdown",
   "id": "85c8d822-e6bf-4091-8fb5-e732dbe991ab",
   "metadata": {},
   "source": [
    "4. Specify how to connect"
   ]
  },
  {
   "cell_type": "markdown",
   "id": "aee3f5ad-37e1-4757-bc87-d8355b15166c",
   "metadata": {},
   "source": [
    "We should also output how to connect to our database.  We can do so with the output below.  But you'll need to use some string interpolation, and reference the database resource properties to output the database name, host domain name, and the user to connect to the database."
   ]
  },
  {
   "cell_type": "markdown",
   "id": "6720b297-3b77-4ba8-a248-9b808edd3403",
   "metadata": {},
   "source": [
    "```bash\n",
    "output \"rds_connection_instructions\" {\n",
    "  value = \"psql -d  -h  -U \"\n",
    "}\n",
    "```"
   ]
  },
  {
   "cell_type": "markdown",
   "id": "2e9d7d71-d717-46c9-8ac5-15af962fae79",
   "metadata": {},
   "source": [
    "At this point, it's a good idea to apply our terraform code.  Then connect to the database, and confirm there is the database name that you specified."
   ]
  },
  {
   "cell_type": "markdown",
   "id": "90b7406a-0bb2-4429-94e3-07d47a64e75a",
   "metadata": {},
   "source": [
    "**B. Setting up the EC2 instance**"
   ]
  },
  {
   "cell_type": "markdown",
   "id": "473eb9df-8bab-4107-952f-cdcceb6bd621",
   "metadata": {},
   "source": [
    "1. Set up the EC2 instance"
   ]
  },
  {
   "cell_type": "markdown",
   "id": "9c966f60-b212-4f9c-a340-9f3e5b8ee68d",
   "metadata": {
    "tags": []
   },
   "source": [
    "Next up, is to set up the EC2 instance.  You can define this in the `web_app.tf` file. You can start off with the following.  \n",
    "\n",
    "```bash\n",
    "resource \"aws_instance\" \"backend_server\" {\n",
    "  ami           = \"ami-07d9b9ddc6cd8dd30\"\n",
    "  instance_type = \"t2.micro\"\n",
    "}\n",
    "```"
   ]
  },
  {
   "cell_type": "markdown",
   "id": "cc65ec89-5804-4b59-9f13-eea230db7efe",
   "metadata": {},
   "source": [
    "> **Note**: Your ami may differ, based on region, but do check that you are working with an Ubuntu ami.  You can make sure you are working with an ubuntu ami, by going to `EC2 > Launch Instance` and then selecting Ubuntu, and finding the associated AMI."
   ]
  },
  {
   "cell_type": "markdown",
   "id": "8d621e68-cf58-4697-a8fa-0566f2f46d89",
   "metadata": {},
   "source": [
    "> <img src=\"./select-ubuntu.png\" width=\"60%\">"
   ]
  },
  {
   "cell_type": "markdown",
   "id": "acb25f2b-90a6-4897-b357-593a0a0b7975",
   "metadata": {},
   "source": [
    "We'll leave to you to add the following:\n",
    "\n",
    "* Add the key name\n",
    "    * You'll need to add the `key_name` attribute, and match this to one of the key pairs (matching a .pem file you can use to ssh into. \n",
    "    \n",
    "* Name the instance \n",
    "    * Use the `tags` property to give it a name of `backend server`"
   ]
  },
  {
   "cell_type": "markdown",
   "id": "777db9ee-2759-41c3-b7ee-a4a93bb7335d",
   "metadata": {},
   "source": [
    "2. Create a security group\n"
   ]
  },
  {
   "cell_type": "markdown",
   "id": "e44dd8d6-fc46-48d2-ae95-401174b52f45",
   "metadata": {},
   "source": [
    "Next, create a security group, and create two ingress rules:\n",
    "\n",
    "* ssh access on port 22 to for any computer\n",
    "* access on port 80 to any computer"
   ]
  },
  {
   "cell_type": "markdown",
   "id": "88e5dba7-22b4-41d1-954e-62ec3f3dafd7",
   "metadata": {},
   "source": [
    "3. Attach the security group\n",
    "\n",
    "* Add the appropriate security group id to the ec2 definition.  This should attach the `aws_security_group` that you just created.\n"
   ]
  },
  {
   "cell_type": "markdown",
   "id": "83bf7661-d7ba-411b-9133-283f5570ae38",
   "metadata": {},
   "source": [
    "4. One last step\n",
    "\n",
    "Now at this point, we should have our ec2 machine set up, and also have our rds instance set up.  But we need to tell our rds instance to allow access to our ec2 machine.  Remember why?  Our Ec2 machine will host our backend api, which will need to connect to the database in RDS.\n",
    "\n",
    "To accomplish this, we'll need to go back to the `rds.tf` file, and update the `aws_security_group.postgres_access` definition to the following."
   ]
  },
  {
   "cell_type": "markdown",
   "id": "5f53b4b9-b0aa-4461-90b6-e205fd8bdab6",
   "metadata": {},
   "source": [
    "```bash\n",
    "resource \"aws_security_group\" \"postgres_access\" {\n",
    "    # your original code\n",
    "    \n",
    "    security_groups = [aws_security_group.web_app.id]\n",
    "  }\n",
    "}\n",
    "```"
   ]
  },
  {
   "cell_type": "markdown",
   "id": "50cd3a11-eaba-4266-bb4e-90ca4257ee37",
   "metadata": {},
   "source": [
    "So here, we essentially added a tag to the postgres security group.  And that tag tells the postgres security group to allow access to any aws resource associated to the `web_app` security group.  So now our web app, should have access. "
   ]
  },
  {
   "cell_type": "markdown",
   "id": "1fccbb4e-ac3e-4337-a8ed-6baae63334d8",
   "metadata": {},
   "source": [
    "Let's try to say this again."
   ]
  },
  {
   "cell_type": "markdown",
   "id": "90e1905c-3475-4241-837a-d1952c5a9742",
   "metadata": {},
   "source": [
    "* The `postgres_access` security group gives rds instance access to...\n",
    "* Resources associated with the `web_app` security group\n",
    "* And we attached the `web_app` security group to the ec2 instance \n",
    "* Thus giving ec2 access to our rds instance.\n",
    "\n"
   ]
  },
  {
   "cell_type": "markdown",
   "id": "ba4a2c53-3dc0-48f1-8d95-29e6839bf1bd",
   "metadata": {},
   "source": [
    "### Check your work"
   ]
  },
  {
   "cell_type": "markdown",
   "id": "bb9a4252-1560-4eda-986e-f76b0988b05b",
   "metadata": {},
   "source": [
    "Ok, so now let's deploy our terraform resources.  To do this, from the `tf` folder we'll need to run the following:"
   ]
  },
  {
   "cell_type": "markdown",
   "id": "d2659bf4-7152-4273-9fa5-24be32092953",
   "metadata": {},
   "source": [
    "```bash\n",
    "terraform init\n",
    "terraform apply\n",
    "```"
   ]
  },
  {
   "cell_type": "markdown",
   "id": "4d5719bf-476f-411c-bee1-05a7b62185e0",
   "metadata": {},
   "source": [
    "And then from there we should first `psql` into the postgres instance to confirm that we can connect to the database from our laptop.  Also confirm that the database name that you set up is available."
   ]
  },
  {
   "cell_type": "markdown",
   "id": "f16c53cf-ab90-4bb3-a753-4ce487196fa9",
   "metadata": {},
   "source": [
    "> <img src=\"./job-scraper-access.png\">"
   ]
  },
  {
   "cell_type": "markdown",
   "id": "706b6582-99b1-463b-9083-574196b5d8f3",
   "metadata": {},
   "source": [
    "Then move onto the ec2 instance.  So ssh into the ec2 instance.  And then we'll want to confirm that we can connect to our database from the ec2 instance."
   ]
  },
  {
   "cell_type": "markdown",
   "id": "8815b9c2-2491-480f-9fd7-e2c8d9e4e20d",
   "metadata": {},
   "source": [
    "```bash\n",
    "sudo apt-get update\n",
    "sudo apt-get install postgresql-client-common\n",
    "sudo apt-get install postgresql-client\n",
    "```"
   ]
  },
  {
   "cell_type": "markdown",
   "id": "8cb4f632-face-4172-8b59-6821b3717afb",
   "metadata": {},
   "source": [
    "From there, you should be able to use psql to connect to the rds instance from ec2.  \n",
    "\n",
    "> If you cannot, use AWS's web interface to confirm that the security group is properly set up."
   ]
  },
  {
   "cell_type": "markdown",
   "id": "e0df3520-f50c-4caf-9a0c-ecc2105228d9",
   "metadata": {},
   "source": [
    "### Encoding the setup"
   ]
  },
  {
   "cell_type": "markdown",
   "id": "ded3f232-284f-4716-a098-71d3834ae95d",
   "metadata": {},
   "source": [
    "\n",
    "Now, one thing we'll have to make sure of, is that the ec2 instance is setup *after* the rds instance is established.  After all, that's the only way to get our `DB_HOST` value.  So do this we can add the following property to our EC2 setup.  \n",
    "\n",
    "```bash\n",
    "depends_on = [aws_db_instance.postgres_db]\n",
    "```"
   ]
  },
  {
   "cell_type": "markdown",
   "id": "6832108a-94e8-4729-a04d-43bf6561140e",
   "metadata": {},
   "source": [
    "So now, our `backend_server` resource will look something like the following:"
   ]
  },
  {
   "cell_type": "markdown",
   "id": "74af1907-acb4-4db4-8028-70e41687115f",
   "metadata": {},
   "source": [
    "```bash\n",
    "resource \"aws_instance\" \"backend_server\" {\n",
    "  ami           = \"ami-07d9b9ddc6cd8dd30\"\n",
    "  instance_type = \"t2.micro\"\n",
    "  key_name = \"your key name here\"\n",
    "  # \n",
    "  depends_on = [aws_db_instance.postgres_db]\n",
    "  \n",
    "  ...\n",
    "  }\n",
    "```"
   ]
  },
  {
   "cell_type": "markdown",
   "id": "563c3b41-98ec-4fac-8369-dd707e85ce29",
   "metadata": {},
   "source": [
    "Ok, so now reapply your changes.  And then sh into the ec2 machine, and then confirm that the environmental variables have been set up."
   ]
  },
  {
   "cell_type": "markdown",
   "id": "c99c1745-8076-41f9-80a9-340bd4f77cee",
   "metadata": {},
   "source": [
    "`echo $DB_HOST`"
   ]
  },
  {
   "cell_type": "markdown",
   "id": "45b5d645-26cd-4337-a86b-fba823691007",
   "metadata": {},
   "source": [
    "If you need to see how your changes were applied, you can see a log of what occurred in your ec2 instance, by executing the following. "
   ]
  },
  {
   "cell_type": "markdown",
   "id": "927d64a3-2f6a-4519-9f27-695269f58594",
   "metadata": {},
   "source": [
    "```bash\n",
    "cat /var/log/cloud-init-output.log\n",
    "cat /var/log/cloud-init.log\n",
    "```"
   ]
  },
  {
   "cell_type": "markdown",
   "id": "ea03ddc0-acd3-444d-8efa-78f74e928c25",
   "metadata": {},
   "source": [
    "Ok, so if you did all of that, you done with this phase!"
   ]
  },
  {
   "cell_type": "markdown",
   "id": "ecd45041-5590-4aab-9b59-b8ca7ce4a344",
   "metadata": {},
   "source": [
    "### Summary"
   ]
  },
  {
   "cell_type": "markdown",
   "id": "4c171227-04f6-4d07-80fe-15e860a384f5",
   "metadata": {},
   "source": [
    "In this lesson, we set up our the infrastructure for our terraform stack.  We did so by setting up the database and the ec2 instance.\n",
    "\n",
    "We did so in stages, using `psql` to make sure we could connect to our rds instance, and sshing into our ec2 instance.  We also ensured that we could connect from our ec2 instance to our database with something like the following.\n",
    "\n",
    "```\n",
    "resource \"aws_security_group\" \"postgres_access\" {\n",
    "    # your original code\n",
    "    \n",
    "    security_groups = [aws_security_group.web_app.id]\n",
    "  }\n",
    "}\n",
    "```"
   ]
  },
  {
   "cell_type": "markdown",
   "id": "d1f795aa-34cd-4a6a-91c0-c2c5c8b300d7",
   "metadata": {},
   "source": [
    "### Resources\n",
    "\n",
    "[Terraform template working with Following](https://discuss.hashicorp.com/t/template-v2-2-0-does-not-have-a-package-available-mac-m1/35099/3)"
   ]
  }
 ],
 "metadata": {
  "kernelspec": {
   "display_name": "Python 3 (ipykernel)",
   "language": "python",
   "name": "python3"
  },
  "language_info": {
   "codemirror_mode": {
    "name": "ipython",
    "version": 3
   },
   "file_extension": ".py",
   "mimetype": "text/x-python",
   "name": "python",
   "nbconvert_exporter": "python",
   "pygments_lexer": "ipython3",
   "version": "3.10.14"
  }
 },
 "nbformat": 4,
 "nbformat_minor": 5
}
